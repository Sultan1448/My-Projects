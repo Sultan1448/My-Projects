{
 "cells": [
  {
   "cell_type": "markdown",
   "metadata": {},
   "source": [
    "# Проект для «Викишоп»"
   ]
  },
  {
   "cell_type": "markdown",
   "metadata": {},
   "source": [
    "Заказчик - Интернет-магазин «Викишоп» запускает новый сервис. Теперь пользователи могут редактировать и дополнять описания товаров, как в вики-сообществах. То есть клиенты предлагают свои правки и комментируют изменения других. Магазину нужен инструмент, который будет искать токсичные комментарии и отправлять их на модерацию. \n",
    "\n",
    "Обучите модель классифицировать комментарии на позитивные и негативные.\n",
    "\n",
    "Для выполнения проекта применять *BERT* необязательно, но можно попробовать."
   ]
  },
  {
   "cell_type": "markdown",
   "metadata": {},
   "source": [
    "# План работ\n",
    "\n",
    "1. Загрузите и подготовьте данные.\n",
    " * 1.2. Лемматизируем и очистим текст.\n",
    "2. Обучите разные модели. \n",
    "3. Сделайте выводы."
   ]
  },
  {
   "cell_type": "markdown",
   "metadata": {},
   "source": [
    "# Описание данных\n",
    "\n",
    "Данные находятся в файле `toxic_comments.csv`. \n",
    "\n",
    "*text* — содержит текст комментария\n",
    "\n",
    "*toxic* — целевой признак."
   ]
  },
  {
   "cell_type": "markdown",
   "metadata": {},
   "source": [
    "## Подготовка данных и загрузка библиотек"
   ]
  },
  {
   "cell_type": "code",
   "execution_count": 1,
   "metadata": {
    "collapsed": true
   },
   "outputs": [
    {
     "name": "stdout",
     "output_type": "stream",
     "text": [
      "Requirement already satisfied: catboost in /opt/conda/lib/python3.9/site-packages (1.0.3)\n",
      "Requirement already satisfied: scipy in /opt/conda/lib/python3.9/site-packages (from catboost) (1.9.1)\n",
      "Requirement already satisfied: numpy>=1.16.0 in /opt/conda/lib/python3.9/site-packages (from catboost) (1.21.1)\n",
      "Requirement already satisfied: six in /opt/conda/lib/python3.9/site-packages (from catboost) (1.16.0)\n",
      "Requirement already satisfied: pandas>=0.24.0 in /opt/conda/lib/python3.9/site-packages (from catboost) (1.2.4)\n",
      "Requirement already satisfied: plotly in /opt/conda/lib/python3.9/site-packages (from catboost) (5.4.0)\n",
      "Requirement already satisfied: matplotlib in /opt/conda/lib/python3.9/site-packages (from catboost) (3.3.4)\n",
      "Requirement already satisfied: graphviz in /opt/conda/lib/python3.9/site-packages (from catboost) (0.20.1)\n",
      "Requirement already satisfied: python-dateutil>=2.7.3 in /opt/conda/lib/python3.9/site-packages (from pandas>=0.24.0->catboost) (2.8.1)\n",
      "Requirement already satisfied: pytz>=2017.3 in /opt/conda/lib/python3.9/site-packages (from pandas>=0.24.0->catboost) (2021.1)\n",
      "Requirement already satisfied: kiwisolver>=1.0.1 in /opt/conda/lib/python3.9/site-packages (from matplotlib->catboost) (1.4.4)\n",
      "Requirement already satisfied: cycler>=0.10 in /opt/conda/lib/python3.9/site-packages (from matplotlib->catboost) (0.11.0)\n",
      "Requirement already satisfied: pillow>=6.2.0 in /opt/conda/lib/python3.9/site-packages (from matplotlib->catboost) (8.4.0)\n",
      "Requirement already satisfied: pyparsing!=2.0.4,!=2.1.2,!=2.1.6,>=2.0.3 in /opt/conda/lib/python3.9/site-packages (from matplotlib->catboost) (2.4.7)\n",
      "Requirement already satisfied: tenacity>=6.2.0 in /opt/conda/lib/python3.9/site-packages (from plotly->catboost) (8.0.1)\n",
      "Collecting pytorch-transformers\n",
      "  Downloading pytorch_transformers-1.2.0-py3-none-any.whl (176 kB)\n",
      "\u001b[K     |████████████████████████████████| 176 kB 1.4 MB/s eta 0:00:01\n",
      "\u001b[?25hRequirement already satisfied: sacremoses in /opt/conda/lib/python3.9/site-packages (from pytorch-transformers) (0.0.53)\n",
      "Requirement already satisfied: tqdm in /opt/conda/lib/python3.9/site-packages (from pytorch-transformers) (4.61.2)\n",
      "Requirement already satisfied: requests in /opt/conda/lib/python3.9/site-packages (from pytorch-transformers) (2.25.1)\n",
      "Requirement already satisfied: regex in /opt/conda/lib/python3.9/site-packages (from pytorch-transformers) (2022.8.17)\n",
      "Collecting boto3\n",
      "  Downloading boto3-1.26.99-py3-none-any.whl (135 kB)\n",
      "\u001b[K     |████████████████████████████████| 135 kB 11.1 MB/s eta 0:00:01\n",
      "\u001b[?25hRequirement already satisfied: torch>=1.0.0 in /opt/conda/lib/python3.9/site-packages (from pytorch-transformers) (1.10.0)\n",
      "Collecting sentencepiece\n",
      "  Downloading sentencepiece-0.1.97-cp39-cp39-manylinux_2_17_x86_64.manylinux2014_x86_64.whl (1.3 MB)\n",
      "\u001b[K     |████████████████████████████████| 1.3 MB 62.0 MB/s eta 0:00:01\n",
      "\u001b[?25hRequirement already satisfied: numpy in /opt/conda/lib/python3.9/site-packages (from pytorch-transformers) (1.21.1)\n",
      "Requirement already satisfied: typing-extensions in /opt/conda/lib/python3.9/site-packages (from torch>=1.0.0->pytorch-transformers) (4.3.0)\n",
      "Collecting s3transfer<0.7.0,>=0.6.0\n",
      "  Downloading s3transfer-0.6.0-py3-none-any.whl (79 kB)\n",
      "\u001b[K     |████████████████████████████████| 79 kB 1.6 MB/s  eta 0:00:01\n",
      "\u001b[?25hCollecting botocore<1.30.0,>=1.29.99\n",
      "  Downloading botocore-1.29.99-py3-none-any.whl (10.5 MB)\n",
      "\u001b[K     |████████████████████████████████| 10.5 MB 18.4 MB/s eta 0:00:01\n",
      "\u001b[?25hCollecting jmespath<2.0.0,>=0.7.1\n",
      "  Downloading jmespath-1.0.1-py3-none-any.whl (20 kB)\n",
      "Requirement already satisfied: python-dateutil<3.0.0,>=2.1 in /opt/conda/lib/python3.9/site-packages (from botocore<1.30.0,>=1.29.99->boto3->pytorch-transformers) (2.8.1)\n",
      "Requirement already satisfied: urllib3<1.27,>=1.25.4 in /opt/conda/lib/python3.9/site-packages (from botocore<1.30.0,>=1.29.99->boto3->pytorch-transformers) (1.26.6)\n",
      "Requirement already satisfied: six>=1.5 in /opt/conda/lib/python3.9/site-packages (from python-dateutil<3.0.0,>=2.1->botocore<1.30.0,>=1.29.99->boto3->pytorch-transformers) (1.16.0)\n",
      "Requirement already satisfied: certifi>=2017.4.17 in /opt/conda/lib/python3.9/site-packages (from requests->pytorch-transformers) (2022.6.15)\n",
      "Requirement already satisfied: idna<3,>=2.5 in /opt/conda/lib/python3.9/site-packages (from requests->pytorch-transformers) (2.10)\n",
      "Requirement already satisfied: chardet<5,>=3.0.2 in /opt/conda/lib/python3.9/site-packages (from requests->pytorch-transformers) (4.0.0)\n",
      "Requirement already satisfied: joblib in /opt/conda/lib/python3.9/site-packages (from sacremoses->pytorch-transformers) (1.1.0)\n",
      "Requirement already satisfied: click in /opt/conda/lib/python3.9/site-packages (from sacremoses->pytorch-transformers) (8.1.3)\n",
      "Installing collected packages: jmespath, botocore, s3transfer, sentencepiece, boto3, pytorch-transformers\n",
      "Successfully installed boto3-1.26.99 botocore-1.29.99 jmespath-1.0.1 pytorch-transformers-1.2.0 s3transfer-0.6.0 sentencepiece-0.1.97\n"
     ]
    }
   ],
   "source": [
    "!pip install catboost\n",
    "!pip install pytorch-transformers"
   ]
  },
  {
   "cell_type": "code",
   "execution_count": 2,
   "metadata": {},
   "outputs": [],
   "source": [
    "import numpy as np\n",
    "import pandas as pd\n",
    "import matplotlib.pyplot as plt\n",
    "import re\n",
    "import nltk\n",
    "import io\n",
    "import torch\n",
    "import time \n",
    "import warnings\n",
    "\n",
    "from sklearn.model_selection import train_test_split\n",
    "from sklearn.model_selection import GridSearchCV\n",
    "from sklearn.ensemble import RandomForestClassifier\n",
    "from sklearn.model_selection import cross_val_score\n",
    "from sklearn.metrics import f1_score,make_scorer,accuracy_score,roc_auc_score,roc_curve\n",
    "from sklearn.utils.class_weight import compute_class_weight\n",
    "\n",
    "from sklearn.linear_model import LogisticRegression\n",
    "from sklearn.tree import DecisionTreeClassifier \n",
    "from sklearn.ensemble import RandomForestClassifier\n",
    "\n",
    "from sklearn.svm import SVC, LinearSVC\n",
    "from catboost import Pool, CatBoostClassifier\n",
    "from tqdm import notebook,tqdm, trange\n",
    "\n",
    "from nltk.corpus import stopwords as nltk_stopwords\n",
    "from nltk.corpus import wordnet\n",
    "from nltk.stem import WordNetLemmatizer\n",
    "\n",
    "#nltk.download('wordnet','stopwords','punkt','averaged_perceptron_tagger')\n",
    "\n",
    "from sklearn.feature_extraction.text import TfidfVectorizer,CountVectorizer\n",
    "from sklearn.dummy import DummyClassifier\n",
    "\n",
    "from sklearn.base import BaseEstimator, TransformerMixin\n",
    "from gensim.models import Word2Vec\n",
    "from pytorch_transformers import BertTokenizer, BertConfig,AdamW, BertForSequenceClassification\n",
    "from IPython.display import clear_output\n",
    "\n",
    "from torch.utils.data import TensorDataset, DataLoader, RandomSampler, SequentialSampler\n",
    "from keras.preprocessing.sequence import pad_sequences"
   ]
  },
  {
   "cell_type": "code",
   "execution_count": 3,
   "metadata": {},
   "outputs": [
    {
     "name": "stderr",
     "output_type": "stream",
     "text": [
      "[nltk_data] Downloading package stopwords to /home/jovyan/nltk_data...\n",
      "[nltk_data]   Package stopwords is already up-to-date!\n"
     ]
    }
   ],
   "source": [
    "warnings.filterwarnings('ignore')\n",
    "nltk.download('stopwords')\n",
    "tqdm.pandas()"
   ]
  },
  {
   "cell_type": "code",
   "execution_count": 4,
   "metadata": {},
   "outputs": [],
   "source": [
    "comment = pd.read_csv('toxic_comments.csv')"
   ]
  },
  {
   "cell_type": "code",
   "execution_count": 5,
   "metadata": {},
   "outputs": [
    {
     "name": "stdout",
     "output_type": "stream",
     "text": [
      "   Unnamed: 0                                               text  toxic\n",
      "0           0  Explanation\\nWhy the edits made under my usern...      0\n",
      "1           1  D'aww! He matches this background colour I'm s...      0\n",
      "2           2  Hey man, I'm really not trying to edit war. It...      0\n",
      "3           3  \"\\nMore\\nI can't make any real suggestions on ...      0\n",
      "4           4  You, sir, are my hero. Any chance you remember...      0\n"
     ]
    }
   ],
   "source": [
    "print(comment.head(5))"
   ]
  },
  {
   "cell_type": "code",
   "execution_count": 6,
   "metadata": {},
   "outputs": [
    {
     "data": {
      "text/plain": [
       "0    89.838787\n",
       "1    10.161213\n",
       "Name: toxic, dtype: float64"
      ]
     },
     "execution_count": 6,
     "metadata": {},
     "output_type": "execute_result"
    }
   ],
   "source": [
    "comment.toxic.value_counts()/comment.shape[0]*100"
   ]
  },
  {
   "cell_type": "code",
   "execution_count": 7,
   "metadata": {},
   "outputs": [],
   "source": [
    "def df_info(df):\n",
    "    df.info()\n",
    "    print(80*\"+\")\n",
    "    print(f'количество пропусков по столбцам:')\n",
    "    for i,j in enumerate(df.columns):\n",
    "        print(j,'=',df.iloc[:,i].isna().sum())\n",
    "    print('Описание количественных переменных:')\n",
    "    print(df.describe(percentiles=[.25,.5]))\n",
    "    print(80*\"+\")\n",
    "    print(f'количество дубликатов в таблице = {df.duplicated().sum()}')"
   ]
  },
  {
   "cell_type": "code",
   "execution_count": 8,
   "metadata": {
    "scrolled": true
   },
   "outputs": [
    {
     "name": "stdout",
     "output_type": "stream",
     "text": [
      "<class 'pandas.core.frame.DataFrame'>\n",
      "RangeIndex: 159292 entries, 0 to 159291\n",
      "Data columns (total 3 columns):\n",
      " #   Column      Non-Null Count   Dtype \n",
      "---  ------      --------------   ----- \n",
      " 0   Unnamed: 0  159292 non-null  int64 \n",
      " 1   text        159292 non-null  object\n",
      " 2   toxic       159292 non-null  int64 \n",
      "dtypes: int64(2), object(1)\n",
      "memory usage: 3.6+ MB\n",
      "++++++++++++++++++++++++++++++++++++++++++++++++++++++++++++++++++++++++++++++++\n",
      "количество пропусков по столбцам:\n",
      "Unnamed: 0 = 0\n",
      "text = 0\n",
      "toxic = 0\n",
      "Описание количественных переменных:\n",
      "          Unnamed: 0          toxic\n",
      "count  159292.000000  159292.000000\n",
      "mean    79725.697242       0.101612\n",
      "std     46028.837471       0.302139\n",
      "min         0.000000       0.000000\n",
      "25%     39872.750000       0.000000\n",
      "50%     79721.500000       0.000000\n",
      "max    159450.000000       1.000000\n",
      "++++++++++++++++++++++++++++++++++++++++++++++++++++++++++++++++++++++++++++++++\n",
      "количество дубликатов в таблице = 0\n"
     ]
    }
   ],
   "source": [
    "df_info(comment)"
   ]
  },
  {
   "cell_type": "code",
   "execution_count": 9,
   "metadata": {},
   "outputs": [],
   "source": [
    "# comment_new = []\n",
    "# pattern = r'[^a-zA-Z0-9]' \n",
    "# for sentence in comment.text:\n",
    "#    cleared_text = re.sub(pattern, \" \", sentence)\n",
    "#    comment_new.append(\" \". join(cleared_text.split()))"
   ]
  },
  {
   "cell_type": "code",
   "execution_count": 10,
   "metadata": {},
   "outputs": [],
   "source": [
    "# comment['text'] = comment_new\n",
    "# comment.head()"
   ]
  },
  {
   "cell_type": "markdown",
   "metadata": {},
   "source": [
    "# 1.2 Лемматизируем и очистим текст"
   ]
  },
  {
   "cell_type": "code",
   "execution_count": 11,
   "metadata": {},
   "outputs": [],
   "source": [
    "corpus = comment['text'].values"
   ]
  },
  {
   "cell_type": "code",
   "execution_count": 12,
   "metadata": {},
   "outputs": [],
   "source": [
    "def clear_text(text):\n",
    "    return \" \".join(re.sub(r'[^a-zA-Z]', ' ', text).split())"
   ]
  },
  {
   "cell_type": "code",
   "execution_count": 13,
   "metadata": {},
   "outputs": [],
   "source": [
    "def get_wordnet_pos(word):\n",
    "    tag = nltk.pos_tag([word])[0][1][0].upper()\n",
    "    tag_dict = {\"J\": wordnet.ADJ,\n",
    "                \"N\": wordnet.NOUN,\n",
    "                \"V\": wordnet.VERB,\n",
    "                \"R\": wordnet.ADV}\n",
    "    return tag_dict.get(tag, wordnet.NOUN)"
   ]
  },
  {
   "cell_type": "code",
   "execution_count": 14,
   "metadata": {},
   "outputs": [],
   "source": [
    "n = WordNetLemmatizer()\n",
    "\n",
    "def lemmafunct(text):\n",
    "    m =[]\n",
    "    for i in nltk.word_tokenize(text):\n",
    "        m.append(n.lemmatize(i, get_wordnet_pos(i)))\n",
    "    return ' '.join(m)"
   ]
  },
  {
   "cell_type": "code",
   "execution_count": 15,
   "metadata": {},
   "outputs": [],
   "source": [
    "# nltk.download(\"stopwords\")"
   ]
  },
  {
   "cell_type": "code",
   "execution_count": 16,
   "metadata": {},
   "outputs": [
    {
     "name": "stderr",
     "output_type": "stream",
     "text": [
      "100%|██████████| 159292/159292 [27:19<00:00, 97.17it/s] \n"
     ]
    },
    {
     "name": "stdout",
     "output_type": "stream",
     "text": [
      "CPU times: user 23min 28s, sys: 2min 14s, total: 25min 42s\n",
      "Wall time: 27min 19s\n"
     ]
    }
   ],
   "source": [
    "%%time\n",
    "\n",
    "lemy = []\n",
    "for i in tqdm(range(len(corpus))):\n",
    "    lemy.append(lemmafunct(clear_text(corpus[i])))\n",
    "    \n",
    "comment['text'] = pd.Series(lemy, index = comment.index)"
   ]
  },
  {
   "cell_type": "code",
   "execution_count": 17,
   "metadata": {},
   "outputs": [
    {
     "data": {
      "text/plain": [
       "(159292, 3)"
      ]
     },
     "metadata": {},
     "output_type": "display_data"
    }
   ],
   "source": [
    "display(comment.shape)"
   ]
  },
  {
   "cell_type": "code",
   "execution_count": 18,
   "metadata": {},
   "outputs": [
    {
     "data": {
      "text/html": [
       "<div>\n",
       "<style scoped>\n",
       "    .dataframe tbody tr th:only-of-type {\n",
       "        vertical-align: middle;\n",
       "    }\n",
       "\n",
       "    .dataframe tbody tr th {\n",
       "        vertical-align: top;\n",
       "    }\n",
       "\n",
       "    .dataframe thead th {\n",
       "        text-align: right;\n",
       "    }\n",
       "</style>\n",
       "<table border=\"1\" class=\"dataframe\">\n",
       "  <thead>\n",
       "    <tr style=\"text-align: right;\">\n",
       "      <th></th>\n",
       "      <th>Unnamed: 0</th>\n",
       "      <th>text</th>\n",
       "      <th>toxic</th>\n",
       "    </tr>\n",
       "  </thead>\n",
       "  <tbody>\n",
       "    <tr>\n",
       "      <th>153427</th>\n",
       "      <td>153584</td>\n",
       "      <td>bite me that be all cunt</td>\n",
       "      <td>1</td>\n",
       "    </tr>\n",
       "    <tr>\n",
       "      <th>32336</th>\n",
       "      <td>32376</td>\n",
       "      <td>Actually im certain this will be the last brea...</td>\n",
       "      <td>0</td>\n",
       "    </tr>\n",
       "    <tr>\n",
       "      <th>38658</th>\n",
       "      <td>38704</td>\n",
       "      <td>I protest not for the sake of argue but for th...</td>\n",
       "      <td>0</td>\n",
       "    </tr>\n",
       "    <tr>\n",
       "      <th>37972</th>\n",
       "      <td>38018</td>\n",
       "      <td>It also just now occurs to me I didn t mention...</td>\n",
       "      <td>0</td>\n",
       "    </tr>\n",
       "    <tr>\n",
       "      <th>71966</th>\n",
       "      <td>72036</td>\n",
       "      <td>Keep There s an entire category for US weekday...</td>\n",
       "      <td>0</td>\n",
       "    </tr>\n",
       "  </tbody>\n",
       "</table>\n",
       "</div>"
      ],
      "text/plain": [
       "        Unnamed: 0                                               text  toxic\n",
       "153427      153584                           bite me that be all cunt      1\n",
       "32336        32376  Actually im certain this will be the last brea...      0\n",
       "38658        38704  I protest not for the sake of argue but for th...      0\n",
       "37972        38018  It also just now occurs to me I didn t mention...      0\n",
       "71966        72036  Keep There s an entire category for US weekday...      0"
      ]
     },
     "metadata": {},
     "output_type": "display_data"
    }
   ],
   "source": [
    "display(comment.sample(n=5, random_state=1)) "
   ]
  },
  {
   "cell_type": "code",
   "execution_count": 11,
   "metadata": {},
   "outputs": [],
   "source": [
    "features = comment['text']\n",
    "target = comment['toxic']"
   ]
  },
  {
   "cell_type": "code",
   "execution_count": 12,
   "metadata": {},
   "outputs": [
    {
     "data": {
      "text/plain": [
       "(159292,)"
      ]
     },
     "metadata": {},
     "output_type": "display_data"
    },
    {
     "data": {
      "text/plain": [
       "(159292,)"
      ]
     },
     "metadata": {},
     "output_type": "display_data"
    }
   ],
   "source": [
    "display(features.shape)\n",
    "display(target.shape)"
   ]
  },
  {
   "cell_type": "code",
   "execution_count": 13,
   "metadata": {},
   "outputs": [],
   "source": [
    "X_train, X_valid, y_train, y_valid = train_test_split(features, target, test_size = 0.4, random_state = 12345)\n",
    "X_valid, X_test, y_valid, y_test = train_test_split(X_valid, y_valid, test_size = 0.5, random_state = 12345)"
   ]
  },
  {
   "cell_type": "code",
   "execution_count": 14,
   "metadata": {},
   "outputs": [],
   "source": [
    "# display(X_train)"
   ]
  },
  {
   "cell_type": "code",
   "execution_count": 15,
   "metadata": {},
   "outputs": [
    {
     "data": {
      "text/plain": [
       "(95575,)"
      ]
     },
     "metadata": {},
     "output_type": "display_data"
    },
    {
     "data": {
      "text/plain": [
       "(31858,)"
      ]
     },
     "metadata": {},
     "output_type": "display_data"
    },
    {
     "data": {
      "text/plain": [
       "(31859,)"
      ]
     },
     "metadata": {},
     "output_type": "display_data"
    }
   ],
   "source": [
    "display(X_train.shape)\n",
    "display(X_valid.shape)\n",
    "display(X_test.shape)"
   ]
  },
  {
   "cell_type": "code",
   "execution_count": 16,
   "metadata": {},
   "outputs": [
    {
     "data": {
      "text/plain": [
       "'************************************************************'"
      ]
     },
     "metadata": {},
     "output_type": "display_data"
    },
    {
     "data": {
      "text/plain": [
       "'Обучающая выборка'"
      ]
     },
     "metadata": {},
     "output_type": "display_data"
    },
    {
     "data": {
      "text/plain": [
       "(95575, 138178)"
      ]
     },
     "metadata": {},
     "output_type": "display_data"
    },
    {
     "data": {
      "text/plain": [
       "'************************************************************'"
      ]
     },
     "metadata": {},
     "output_type": "display_data"
    },
    {
     "data": {
      "text/plain": [
       "'Валидационная выборка'"
      ]
     },
     "metadata": {},
     "output_type": "display_data"
    },
    {
     "data": {
      "text/plain": [
       "(31858, 138178)"
      ]
     },
     "metadata": {},
     "output_type": "display_data"
    },
    {
     "data": {
      "text/plain": [
       "'************************************************************'"
      ]
     },
     "metadata": {},
     "output_type": "display_data"
    },
    {
     "data": {
      "text/plain": [
       "'Тестовая выборка'"
      ]
     },
     "metadata": {},
     "output_type": "display_data"
    },
    {
     "data": {
      "text/plain": [
       "(31859, 138178)"
      ]
     },
     "metadata": {},
     "output_type": "display_data"
    },
    {
     "data": {
      "text/plain": [
       "'************************************************************'"
      ]
     },
     "metadata": {},
     "output_type": "display_data"
    }
   ],
   "source": [
    "count_tf_idf = TfidfVectorizer(analyzer = 'word', stop_words= 'english')\n",
    "\n",
    "X_train = count_tf_idf.fit_transform(X_train)\n",
    "X_valid = count_tf_idf.transform(X_valid)\n",
    "X_test = count_tf_idf.transform(X_test)\n",
    "\n",
    "display('*'*60)\n",
    "display('Обучающая выборка')\n",
    "display(X_train.shape)\n",
    "display('*'*60)\n",
    "display('Валидационная выборка')\n",
    "display(X_valid.shape)\n",
    "display('*'*60)\n",
    "display('Тестовая выборка')\n",
    "display(X_test.shape)\n",
    "display('*'*60)"
   ]
  },
  {
   "cell_type": "markdown",
   "metadata": {},
   "source": [
    "## Обучение"
   ]
  },
  {
   "cell_type": "markdown",
   "metadata": {},
   "source": [
    "**Модель Логистическая регрессия**"
   ]
  },
  {
   "cell_type": "code",
   "execution_count": 25,
   "metadata": {},
   "outputs": [
    {
     "data": {
      "text/plain": [
       "'Модель LogisticRegression качество f1 равно'"
      ]
     },
     "metadata": {},
     "output_type": "display_data"
    },
    {
     "data": {
      "text/plain": [
       "0.7705169766251494"
      ]
     },
     "metadata": {},
     "output_type": "display_data"
    },
    {
     "name": "stdout",
     "output_type": "stream",
     "text": [
      "CPU times: user 1.5 s, sys: 6.34 ms, total: 1.51 s\n",
      "Wall time: 1.54 s\n"
     ]
    }
   ],
   "source": [
    "%%time\n",
    "\n",
    "model = LogisticRegression(random_state = 12345, solver='sag', max_iter = 14, C=9)\n",
    "model.fit(X_train, y_train)\n",
    "predict = model.predict(X_valid)\n",
    "f1 = f1_score(y_valid, predict)\n",
    "display('Модель LogisticRegression качество f1 равно', f1)"
   ]
  },
  {
   "cell_type": "markdown",
   "metadata": {},
   "source": [
    "**Модель Дерево решений**"
   ]
  },
  {
   "cell_type": "code",
   "execution_count": 26,
   "metadata": {
    "scrolled": true
   },
   "outputs": [
    {
     "data": {
      "text/plain": [
       "'Модель Дерево решений (глубина 24) качество f1 равно 0.659606656580938'"
      ]
     },
     "metadata": {},
     "output_type": "display_data"
    },
    {
     "data": {
      "text/plain": [
       "'Модель Дерево решений (глубина 25) качество f1 равно 0.6647897897897899'"
      ]
     },
     "metadata": {},
     "output_type": "display_data"
    },
    {
     "data": {
      "text/plain": [
       "'Модель Дерево решений (глубина 26) качество f1 равно 0.6684151367553391'"
      ]
     },
     "metadata": {},
     "output_type": "display_data"
    },
    {
     "data": {
      "text/plain": [
       "'Модель Дерево решений (глубина 27) качество f1 равно 0.6691533010070868'"
      ]
     },
     "metadata": {},
     "output_type": "display_data"
    },
    {
     "name": "stdout",
     "output_type": "stream",
     "text": [
      "CPU times: user 41.5 s, sys: 186 ms, total: 41.7 s\n",
      "Wall time: 41.8 s\n"
     ]
    }
   ],
   "source": [
    "%%time\n",
    "\n",
    "for depth in range(24, 28):\n",
    "    model = DecisionTreeClassifier(random_state=12345, max_depth=depth)\n",
    "    model.fit(X_train, y_train)\n",
    "    predict = model.predict(X_valid)\n",
    "    f1 = f1_score(y_valid, predict)\n",
    "    display(f'Модель Дерево решений (глубина {depth}) качество f1 равно {f1}')"
   ]
  },
  {
   "cell_type": "markdown",
   "metadata": {},
   "source": [
    "**Модель Случайный лес**"
   ]
  },
  {
   "cell_type": "code",
   "execution_count": 27,
   "metadata": {},
   "outputs": [
    {
     "data": {
      "text/plain": [
       "'Модель Случайный лес (20 деревьев) качество f1 равно 0.697254606995111'"
      ]
     },
     "metadata": {},
     "output_type": "display_data"
    },
    {
     "data": {
      "text/plain": [
       "'Модель Случайный лес (30 деревьев) качество f1 равно 0.7057941121320083'"
      ]
     },
     "metadata": {},
     "output_type": "display_data"
    },
    {
     "data": {
      "text/plain": [
       "'Модель Случайный лес (40 деревьев) качество f1 равно 0.7092675635276533'"
      ]
     },
     "metadata": {},
     "output_type": "display_data"
    },
    {
     "name": "stdout",
     "output_type": "stream",
     "text": [
      "CPU times: user 5min 51s, sys: 1.1 s, total: 5min 52s\n",
      "Wall time: 5min 55s\n"
     ]
    }
   ],
   "source": [
    "%%time\n",
    "\n",
    "for n_est in (20, 30, 40):\n",
    "    model = RandomForestClassifier(random_state = 12345, n_estimators = n_est)\n",
    "    model.fit(X_train, y_train)\n",
    "    predict = model.predict(X_valid)\n",
    "    f1 = f1_score(y_valid, predict)\n",
    "    display(f'Модель Случайный лес ({n_est} деревьев) качество f1 равно {f1}')"
   ]
  },
  {
   "cell_type": "markdown",
   "metadata": {},
   "source": [
    "**Модель Градиентный бустинг CatBoost**"
   ]
  },
  {
   "cell_type": "code",
   "execution_count": 28,
   "metadata": {
    "scrolled": true
   },
   "outputs": [
    {
     "data": {
      "text/plain": [
       "'CatBoost (20 деревьев) качество f1 равно 0.6674356016916572'"
      ]
     },
     "metadata": {},
     "output_type": "display_data"
    },
    {
     "data": {
      "text/plain": [
       "'CatBoost (30 деревьев) качество f1 равно 0.6900958466453675'"
      ]
     },
     "metadata": {},
     "output_type": "display_data"
    },
    {
     "data": {
      "text/plain": [
       "'CatBoost (40 деревьев) качество f1 равно 0.7082027649769586'"
      ]
     },
     "metadata": {},
     "output_type": "display_data"
    },
    {
     "name": "stdout",
     "output_type": "stream",
     "text": [
      "CPU times: user 4min 25s, sys: 4 s, total: 4min 29s\n",
      "Wall time: 4min 33s\n"
     ]
    }
   ],
   "source": [
    "%%time\n",
    "\n",
    "for n_est in (20, 30, 40):\n",
    "    model = CatBoostClassifier(verbose=False, n_estimators = n_est)\n",
    "    model.fit(X_train, y_train)\n",
    "    predict = model.predict(X_valid)\n",
    "    f1 = f1_score(y_valid, predict)\n",
    "    display(f'CatBoost ({n_est} деревьев) качество f1 равно {f1}')"
   ]
  },
  {
   "cell_type": "markdown",
   "metadata": {},
   "source": [
    "**Проводим тестирование лучшей модели на тестовой выборке**"
   ]
  },
  {
   "cell_type": "code",
   "execution_count": 29,
   "metadata": {},
   "outputs": [
    {
     "data": {
      "text/plain": [
       "'F1 лучшей модели на тестовой выборке равно 0.765'"
      ]
     },
     "metadata": {},
     "output_type": "display_data"
    },
    {
     "data": {
      "text/plain": [
       "'AUC-ROC лучшей модели на тестовой выборке равно 0.964'"
      ]
     },
     "metadata": {},
     "output_type": "display_data"
    },
    {
     "data": {
      "text/plain": [
       "<Figure size 432x288 with 0 Axes>"
      ]
     },
     "metadata": {},
     "output_type": "display_data"
    },
    {
     "data": {
      "image/png": "[encoded data removed]",
      "text/plain": [
       "<Figure size 720x504 with 1 Axes>"
      ]
     },
     "metadata": {
      "needs_background": "light"
     },
     "output_type": "display_data"
    }
   ],
   "source": [
    "model = LogisticRegression(random_state = 12345, solver='sag', max_iter = 14, C=9)\n",
    "model.fit(X_train, y_train)\n",
    "predictions_test = model.predict(X_test) \n",
    "f1 = f1_score(y_test, predictions_test) \n",
    "\n",
    "display ('F1 лучшей модели на тестовой выборке равно {0:.3f}'.format(f1)) \n",
    "\n",
    "probabilities_test = model.predict_proba(X_test)\n",
    "probabilities_one_test = probabilities_test[:, 1]\n",
    "fpr, tpr, thresholds = roc_curve(y_test, probabilities_one_test)\n",
    "auc_roc = roc_auc_score(y_test, probabilities_one_test)\n",
    "\n",
    "display ('AUC-ROC лучшей модели на тестовой выборке равно {0:.3f}'.format(auc_roc)) \n",
    "\n",
    "plt.figure()\n",
    "\n",
    "plt.figure(figsize=(10,7))\n",
    "plt.plot([0, 1], [0, 1], linestyle='--')\n",
    "plt.xlim([0.0, 1.0])\n",
    "plt.ylim([0.0, 1.0])\n",
    "\n",
    "plt.plot(fpr, tpr)\n",
    "\n",
    "plt.xlabel('False Positive Rate')\n",
    "plt.ylabel('True Positive Rate')\n",
    "\n",
    "plt.title('ROC-кривую для лучшей модели на тестовой выборке', fontsize=14, fontweight=\"bold\")\n",
    "plt.legend(('Случайная модель','Лучшая модель'), loc= 'lower right'); "
   ]
  },
  {
   "cell_type": "markdown",
   "metadata": {},
   "source": [
    "## Итоги:"
   ]
  },
  {
   "cell_type": "markdown",
   "metadata": {},
   "source": [
    "Среди обученных моделей я выявил что лучший результат показала модель Логистическая регрессия.\n",
    "\n",
    "По качеству лучшая модель достигла необходимый по условию проекта - заказчика уровень метрики f1 не ниже 0,75 на валидационной и на тестовой выборках.\n",
    "\n",
    "f1 лучшей модели на валидационной выборкес 0.77\n",
    "\n",
    "f1 лучшей модели на тестовой выборке 0.765"
   ]
  }
 ],
 "metadata": {
  "ExecuteTimeLog": [
   {
    "duration": 3651,
    "start_time": "2023-03-18T18:16:55.906Z"
   },
   {
    "duration": 4306,
    "start_time": "2023-03-18T20:02:36.902Z"
   },
   {
    "duration": 4927,
    "start_time": "2023-03-18T20:02:49.435Z"
   },
   {
    "duration": 1471,
    "start_time": "2023-03-18T20:54:16.899Z"
   },
   {
    "duration": 214,
    "start_time": "2023-03-18T21:28:29.718Z"
   },
   {
    "duration": 5292,
    "start_time": "2023-03-18T21:28:33.925Z"
   },
   {
    "duration": 933,
    "start_time": "2023-03-18T21:28:39.220Z"
   },
   {
    "duration": 6,
    "start_time": "2023-03-18T21:28:40.155Z"
   },
   {
    "duration": 10,
    "start_time": "2023-03-18T21:30:45.441Z"
   },
   {
    "duration": 15,
    "start_time": "2023-03-18T21:46:07.554Z"
   },
   {
    "duration": 15,
    "start_time": "2023-03-18T21:46:14.765Z"
   },
   {
    "duration": 25,
    "start_time": "2023-03-18T21:46:21.568Z"
   },
   {
    "duration": 54,
    "start_time": "2023-03-18T21:46:29.359Z"
   },
   {
    "duration": 55,
    "start_time": "2023-03-18T21:47:11.836Z"
   },
   {
    "duration": 5,
    "start_time": "2023-03-18T21:47:36.007Z"
   },
   {
    "duration": 359,
    "start_time": "2023-03-18T21:47:57.569Z"
   },
   {
    "duration": 7,
    "start_time": "2023-03-18T21:48:34.522Z"
   },
   {
    "duration": 386,
    "start_time": "2023-03-18T21:48:35.421Z"
   },
   {
    "duration": 7,
    "start_time": "2023-03-18T21:48:51.210Z"
   },
   {
    "duration": 286,
    "start_time": "2023-03-18T21:48:51.430Z"
   },
   {
    "duration": 10694,
    "start_time": "2023-03-19T17:07:02.605Z"
   },
   {
    "duration": 7204,
    "start_time": "2023-03-19T17:07:13.302Z"
   },
   {
    "duration": 1374,
    "start_time": "2023-03-19T17:08:12.410Z"
   },
   {
    "duration": 10,
    "start_time": "2023-03-19T17:08:14.499Z"
   },
   {
    "duration": 10,
    "start_time": "2023-03-19T17:08:19.489Z"
   },
   {
    "duration": 15,
    "start_time": "2023-03-19T17:08:58.110Z"
   },
   {
    "duration": 52,
    "start_time": "2023-03-19T17:09:02.914Z"
   },
   {
    "duration": 5752,
    "start_time": "2023-03-19T17:09:07.518Z"
   },
   {
    "duration": 4809,
    "start_time": "2023-03-19T17:09:31.259Z"
   },
   {
    "duration": 13120,
    "start_time": "2023-03-19T17:09:36.071Z"
   },
   {
    "duration": 1352,
    "start_time": "2023-03-19T17:09:49.193Z"
   },
   {
    "duration": 7,
    "start_time": "2023-03-19T17:09:50.548Z"
   },
   {
    "duration": 21,
    "start_time": "2023-03-19T17:09:50.557Z"
   },
   {
    "duration": 8,
    "start_time": "2023-03-19T17:09:50.579Z"
   },
   {
    "duration": 332,
    "start_time": "2023-03-19T17:09:50.588Z"
   },
   {
    "duration": 55,
    "start_time": "2023-03-19T17:11:20.414Z"
   },
   {
    "duration": 6716,
    "start_time": "2023-03-19T17:13:21.888Z"
   },
   {
    "duration": 13801,
    "start_time": "2023-03-19T17:14:26.078Z"
   },
   {
    "duration": 1496,
    "start_time": "2023-03-19T17:15:02.130Z"
   },
   {
    "duration": 8,
    "start_time": "2023-03-19T17:15:10.062Z"
   },
   {
    "duration": 11,
    "start_time": "2023-03-19T17:15:17.611Z"
   },
   {
    "duration": 18,
    "start_time": "2023-03-19T17:15:19.833Z"
   },
   {
    "duration": 359,
    "start_time": "2023-03-19T17:15:22.911Z"
   },
   {
    "duration": 69,
    "start_time": "2023-03-19T17:16:08.297Z"
   },
   {
    "duration": 11,
    "start_time": "2023-03-19T17:16:11.437Z"
   },
   {
    "duration": 6328,
    "start_time": "2023-03-19T17:20:36.699Z"
   },
   {
    "duration": 11584,
    "start_time": "2023-03-19T17:20:43.028Z"
   },
   {
    "duration": 1344,
    "start_time": "2023-03-19T17:23:26.976Z"
   },
   {
    "duration": 1538,
    "start_time": "2023-03-19T17:23:39.060Z"
   },
   {
    "duration": 8,
    "start_time": "2023-03-19T17:23:45.021Z"
   },
   {
    "duration": 10,
    "start_time": "2023-03-19T17:23:47.187Z"
   },
   {
    "duration": 4862,
    "start_time": "2023-03-19T17:26:08.116Z"
   },
   {
    "duration": 6078,
    "start_time": "2023-03-19T17:26:12.981Z"
   },
   {
    "duration": 934,
    "start_time": "2023-03-19T17:26:19.064Z"
   },
   {
    "duration": 8,
    "start_time": "2023-03-19T17:26:20.000Z"
   },
   {
    "duration": 28,
    "start_time": "2023-03-19T17:26:20.010Z"
   },
   {
    "duration": 26,
    "start_time": "2023-03-19T17:26:20.041Z"
   },
   {
    "duration": 342,
    "start_time": "2023-03-19T17:26:20.070Z"
   },
   {
    "duration": 86,
    "start_time": "2023-03-19T17:26:45.811Z"
   },
   {
    "duration": 7,
    "start_time": "2023-03-19T17:26:54.161Z"
   },
   {
    "duration": 10,
    "start_time": "2023-03-19T17:27:01.025Z"
   },
   {
    "duration": 8,
    "start_time": "2023-03-19T17:27:06.654Z"
   },
   {
    "duration": 9142,
    "start_time": "2023-03-19T17:27:29.321Z"
   },
   {
    "duration": 20221,
    "start_time": "2023-03-19T17:27:38.467Z"
   },
   {
    "duration": 1650,
    "start_time": "2023-03-19T17:27:58.690Z"
   },
   {
    "duration": 16,
    "start_time": "2023-03-19T17:28:00.352Z"
   },
   {
    "duration": 53,
    "start_time": "2023-03-19T17:28:00.372Z"
   },
   {
    "duration": 51,
    "start_time": "2023-03-19T17:28:00.427Z"
   },
   {
    "duration": 424,
    "start_time": "2023-03-19T17:28:00.480Z"
   },
   {
    "duration": 65,
    "start_time": "2023-03-19T17:28:11.627Z"
   },
   {
    "duration": 5175,
    "start_time": "2023-03-19T18:21:35.604Z"
   },
   {
    "duration": 17092,
    "start_time": "2023-03-19T18:21:51.116Z"
   },
   {
    "duration": 1590,
    "start_time": "2023-03-19T18:23:06.111Z"
   },
   {
    "duration": 8,
    "start_time": "2023-03-19T18:23:13.056Z"
   },
   {
    "duration": 327,
    "start_time": "2023-03-19T18:23:14.958Z"
   },
   {
    "duration": 12,
    "start_time": "2023-03-19T18:23:28.314Z"
   },
   {
    "duration": 5,
    "start_time": "2023-03-19T18:23:30.004Z"
   },
   {
    "duration": 331,
    "start_time": "2023-03-19T18:23:34.716Z"
   },
   {
    "duration": 375,
    "start_time": "2023-03-19T18:23:42.713Z"
   },
   {
    "duration": 30,
    "start_time": "2023-03-19T18:24:04.045Z"
   },
   {
    "duration": 63,
    "start_time": "2023-03-19T18:26:34.748Z"
   },
   {
    "duration": 7,
    "start_time": "2023-03-19T18:26:52.216Z"
   },
   {
    "duration": 17,
    "start_time": "2023-03-19T18:27:21.461Z"
   },
   {
    "duration": 5961,
    "start_time": "2023-03-19T18:29:19.596Z"
   },
   {
    "duration": 1559,
    "start_time": "2023-03-19T18:29:25.562Z"
   },
   {
    "duration": 2769,
    "start_time": "2023-03-19T18:29:27.124Z"
   },
   {
    "duration": 10,
    "start_time": "2023-03-19T18:29:29.895Z"
   },
   {
    "duration": 26,
    "start_time": "2023-03-19T18:29:29.907Z"
   },
   {
    "duration": 19,
    "start_time": "2023-03-19T18:29:32.796Z"
   },
   {
    "duration": 8,
    "start_time": "2023-03-19T18:29:40.059Z"
   },
   {
    "duration": 348,
    "start_time": "2023-03-19T18:29:40.795Z"
   },
   {
    "duration": 5058,
    "start_time": "2023-03-19T18:32:43.607Z"
   },
   {
    "duration": 52,
    "start_time": "2023-03-19T18:32:50.491Z"
   },
   {
    "duration": 17,
    "start_time": "2023-03-19T18:34:04.008Z"
   },
   {
    "duration": 54,
    "start_time": "2023-03-20T18:50:44.011Z"
   },
   {
    "duration": 10524,
    "start_time": "2023-03-20T18:50:52.559Z"
   },
   {
    "duration": 7553,
    "start_time": "2023-03-20T18:51:03.085Z"
   },
   {
    "duration": 1433,
    "start_time": "2023-03-20T18:51:10.640Z"
   },
   {
    "duration": 12,
    "start_time": "2023-03-20T18:51:12.075Z"
   },
   {
    "duration": 20,
    "start_time": "2023-03-20T18:51:12.089Z"
   },
   {
    "duration": 10,
    "start_time": "2023-03-20T18:51:12.111Z"
   },
   {
    "duration": 371,
    "start_time": "2023-03-20T18:51:12.123Z"
   },
   {
    "duration": 4623,
    "start_time": "2023-03-20T18:51:12.496Z"
   },
   {
    "duration": 34,
    "start_time": "2023-03-20T18:51:17.121Z"
   },
   {
    "duration": 8205,
    "start_time": "2023-03-20T18:51:17.157Z"
   },
   {
    "duration": 351,
    "start_time": "2023-03-20T20:18:15.303Z"
   },
   {
    "duration": 87,
    "start_time": "2023-03-20T20:18:53.742Z"
   },
   {
    "duration": 81,
    "start_time": "2023-03-20T20:19:31.374Z"
   },
   {
    "duration": 310,
    "start_time": "2023-03-20T20:20:35.324Z"
   },
   {
    "duration": 4080,
    "start_time": "2023-03-20T20:20:50.297Z"
   },
   {
    "duration": 976,
    "start_time": "2023-03-20T20:20:54.379Z"
   },
   {
    "duration": 841,
    "start_time": "2023-03-20T20:20:55.357Z"
   },
   {
    "duration": 6,
    "start_time": "2023-03-20T20:20:56.200Z"
   },
   {
    "duration": 10,
    "start_time": "2023-03-20T20:20:56.207Z"
   },
   {
    "duration": 4,
    "start_time": "2023-03-20T20:20:56.219Z"
   },
   {
    "duration": 333,
    "start_time": "2023-03-20T20:20:56.225Z"
   },
   {
    "duration": 3837,
    "start_time": "2023-03-20T20:20:56.559Z"
   },
   {
    "duration": 32,
    "start_time": "2023-03-20T20:21:00.398Z"
   },
   {
    "duration": 5534,
    "start_time": "2023-03-20T20:21:00.432Z"
   },
   {
    "duration": 142,
    "start_time": "2023-03-20T20:21:05.968Z"
   },
   {
    "duration": 9191,
    "start_time": "2023-03-22T01:01:54.175Z"
   },
   {
    "duration": 14341,
    "start_time": "2023-03-22T01:02:03.368Z"
   },
   {
    "duration": 3828,
    "start_time": "2023-03-22T01:02:17.711Z"
   },
   {
    "duration": 7,
    "start_time": "2023-03-22T01:02:21.541Z"
   },
   {
    "duration": 22,
    "start_time": "2023-03-22T01:02:21.551Z"
   },
   {
    "duration": 5,
    "start_time": "2023-03-22T01:02:21.574Z"
   },
   {
    "duration": 303,
    "start_time": "2023-03-22T01:02:21.580Z"
   },
   {
    "duration": 3506,
    "start_time": "2023-03-22T01:02:21.885Z"
   },
   {
    "duration": 35,
    "start_time": "2023-03-22T01:02:25.393Z"
   },
   {
    "duration": 6410,
    "start_time": "2023-03-22T01:02:25.429Z"
   },
   {
    "duration": 378,
    "start_time": "2023-03-22T01:02:31.841Z"
   },
   {
    "duration": 101,
    "start_time": "2023-03-22T01:03:21.773Z"
   },
   {
    "duration": 10650,
    "start_time": "2023-03-22T16:43:12.754Z"
   },
   {
    "duration": 46,
    "start_time": "2023-03-22T19:57:01.943Z"
   },
   {
    "duration": 2546,
    "start_time": "2023-03-22T19:57:06.145Z"
   },
   {
    "duration": 3659,
    "start_time": "2023-03-22T19:57:13.327Z"
   },
   {
    "duration": 25,
    "start_time": "2023-03-22T21:27:38.415Z"
   },
   {
    "duration": 4,
    "start_time": "2023-03-22T21:27:39.782Z"
   },
   {
    "duration": 297,
    "start_time": "2023-03-22T21:27:41.848Z"
   },
   {
    "duration": 3829,
    "start_time": "2023-03-22T21:27:45.243Z"
   },
   {
    "duration": 31,
    "start_time": "2023-03-22T21:27:49.074Z"
   },
   {
    "duration": 13,
    "start_time": "2023-03-22T21:27:56.576Z"
   },
   {
    "duration": 4090,
    "start_time": "2023-03-22T21:28:40.292Z"
   },
   {
    "duration": 804,
    "start_time": "2023-03-22T21:28:52.484Z"
   },
   {
    "duration": 9,
    "start_time": "2023-03-22T21:28:55.836Z"
   },
   {
    "duration": 8,
    "start_time": "2023-03-22T21:28:56.658Z"
   },
   {
    "duration": 4,
    "start_time": "2023-03-22T21:28:57.462Z"
   },
   {
    "duration": 295,
    "start_time": "2023-03-22T21:28:58.390Z"
   },
   {
    "duration": 3940,
    "start_time": "2023-03-22T21:28:59.487Z"
   },
   {
    "duration": 33,
    "start_time": "2023-03-22T21:29:03.429Z"
   },
   {
    "duration": 7021,
    "start_time": "2023-03-22T21:29:06.130Z"
   },
   {
    "duration": 241,
    "start_time": "2023-03-22T21:29:13.153Z"
   },
   {
    "duration": 1247,
    "start_time": "2023-03-22T21:40:17.489Z"
   },
   {
    "duration": 111,
    "start_time": "2023-03-22T21:41:56.261Z"
   },
   {
    "duration": 1306,
    "start_time": "2023-03-22T21:42:11.374Z"
   },
   {
    "duration": 0,
    "start_time": "2023-03-22T21:42:12.681Z"
   },
   {
    "duration": 26,
    "start_time": "2023-03-22T21:42:30.344Z"
   },
   {
    "duration": 1426,
    "start_time": "2023-03-22T21:42:35.863Z"
   },
   {
    "duration": 841,
    "start_time": "2023-03-22T21:42:40.991Z"
   },
   {
    "duration": 5,
    "start_time": "2023-03-22T21:42:41.834Z"
   },
   {
    "duration": 8,
    "start_time": "2023-03-22T21:42:42.689Z"
   },
   {
    "duration": 5,
    "start_time": "2023-03-22T21:42:45.389Z"
   },
   {
    "duration": 299,
    "start_time": "2023-03-22T21:42:46.314Z"
   },
   {
    "duration": 3821,
    "start_time": "2023-03-22T21:42:50.424Z"
   },
   {
    "duration": 30,
    "start_time": "2023-03-22T21:42:55.911Z"
   },
   {
    "duration": 5710,
    "start_time": "2023-03-22T21:42:59.050Z"
   },
   {
    "duration": 103,
    "start_time": "2023-03-22T21:43:08.284Z"
   },
   {
    "duration": 95,
    "start_time": "2023-03-22T21:46:21.592Z"
   },
   {
    "duration": 4670,
    "start_time": "2023-03-22T21:46:26.253Z"
   },
   {
    "duration": 1788,
    "start_time": "2023-03-22T21:46:30.925Z"
   },
   {
    "duration": 83,
    "start_time": "2023-03-22T21:46:32.714Z"
   },
   {
    "duration": 0,
    "start_time": "2023-03-22T21:46:32.798Z"
   },
   {
    "duration": 0,
    "start_time": "2023-03-22T21:46:32.799Z"
   },
   {
    "duration": 0,
    "start_time": "2023-03-22T21:46:32.800Z"
   },
   {
    "duration": 0,
    "start_time": "2023-03-22T21:46:32.802Z"
   },
   {
    "duration": 0,
    "start_time": "2023-03-22T21:46:32.802Z"
   },
   {
    "duration": 0,
    "start_time": "2023-03-22T21:46:32.803Z"
   },
   {
    "duration": 0,
    "start_time": "2023-03-22T21:46:32.858Z"
   },
   {
    "duration": 0,
    "start_time": "2023-03-22T21:46:32.859Z"
   },
   {
    "duration": 0,
    "start_time": "2023-03-22T21:46:32.860Z"
   },
   {
    "duration": 77,
    "start_time": "2023-03-22T21:47:00.214Z"
   },
   {
    "duration": 74,
    "start_time": "2023-03-22T21:47:12.252Z"
   },
   {
    "duration": 31,
    "start_time": "2023-03-22T21:47:34.361Z"
   },
   {
    "duration": 1345,
    "start_time": "2023-03-22T21:47:43.613Z"
   },
   {
    "duration": 878,
    "start_time": "2023-03-22T21:47:48.913Z"
   },
   {
    "duration": 6,
    "start_time": "2023-03-22T21:47:51.043Z"
   },
   {
    "duration": 8,
    "start_time": "2023-03-22T21:47:52.538Z"
   },
   {
    "duration": 4,
    "start_time": "2023-03-22T21:47:53.150Z"
   },
   {
    "duration": 309,
    "start_time": "2023-03-22T21:47:54.710Z"
   },
   {
    "duration": 4079,
    "start_time": "2023-03-22T21:47:55.558Z"
   },
   {
    "duration": 32,
    "start_time": "2023-03-22T21:47:59.639Z"
   },
   {
    "duration": 5914,
    "start_time": "2023-03-22T21:48:01.959Z"
   },
   {
    "duration": 133,
    "start_time": "2023-03-22T21:48:07.875Z"
   },
   {
    "duration": 116,
    "start_time": "2023-03-22T21:48:18.568Z"
   },
   {
    "duration": 81,
    "start_time": "2023-03-22T21:58:36.086Z"
   },
   {
    "duration": 32,
    "start_time": "2023-03-22T21:58:39.310Z"
   },
   {
    "duration": 1218,
    "start_time": "2023-03-22T22:18:22.210Z"
   },
   {
    "duration": 1899,
    "start_time": "2023-03-22T22:18:31.434Z"
   },
   {
    "duration": 828,
    "start_time": "2023-03-22T22:18:37.892Z"
   },
   {
    "duration": 5,
    "start_time": "2023-03-22T22:18:38.966Z"
   },
   {
    "duration": 8,
    "start_time": "2023-03-22T22:18:39.809Z"
   },
   {
    "duration": 4,
    "start_time": "2023-03-22T22:18:40.017Z"
   },
   {
    "duration": 308,
    "start_time": "2023-03-22T22:18:40.239Z"
   },
   {
    "duration": 3857,
    "start_time": "2023-03-22T22:18:41.328Z"
   },
   {
    "duration": 30,
    "start_time": "2023-03-22T22:18:45.186Z"
   },
   {
    "duration": 3,
    "start_time": "2023-03-22T22:18:47.451Z"
   },
   {
    "duration": 71,
    "start_time": "2023-03-22T22:18:49.709Z"
   },
   {
    "duration": 3,
    "start_time": "2023-03-22T22:18:57.294Z"
   },
   {
    "duration": 3,
    "start_time": "2023-03-22T22:18:58.644Z"
   },
   {
    "duration": 4,
    "start_time": "2023-03-22T22:19:01.374Z"
   },
   {
    "duration": 133,
    "start_time": "2023-03-22T22:19:03.457Z"
   },
   {
    "duration": 144,
    "start_time": "2023-03-22T22:19:44.206Z"
   },
   {
    "duration": 4569,
    "start_time": "2023-03-22T22:50:44.718Z"
   },
   {
    "duration": 2052,
    "start_time": "2023-03-22T22:50:49.289Z"
   },
   {
    "duration": 77,
    "start_time": "2023-03-22T22:50:51.343Z"
   },
   {
    "duration": 0,
    "start_time": "2023-03-22T22:50:51.423Z"
   },
   {
    "duration": 0,
    "start_time": "2023-03-22T22:50:51.424Z"
   },
   {
    "duration": 0,
    "start_time": "2023-03-22T22:50:51.425Z"
   },
   {
    "duration": 0,
    "start_time": "2023-03-22T22:50:51.426Z"
   },
   {
    "duration": 0,
    "start_time": "2023-03-22T22:50:51.428Z"
   },
   {
    "duration": 0,
    "start_time": "2023-03-22T22:50:51.429Z"
   },
   {
    "duration": 0,
    "start_time": "2023-03-22T22:50:51.430Z"
   },
   {
    "duration": 0,
    "start_time": "2023-03-22T22:50:51.431Z"
   },
   {
    "duration": 0,
    "start_time": "2023-03-22T22:50:51.433Z"
   },
   {
    "duration": 0,
    "start_time": "2023-03-22T22:50:51.434Z"
   },
   {
    "duration": 0,
    "start_time": "2023-03-22T22:50:51.435Z"
   },
   {
    "duration": 0,
    "start_time": "2023-03-22T22:50:51.436Z"
   },
   {
    "duration": 0,
    "start_time": "2023-03-22T22:50:51.437Z"
   },
   {
    "duration": 0,
    "start_time": "2023-03-22T22:50:51.438Z"
   },
   {
    "duration": 0,
    "start_time": "2023-03-22T22:50:51.439Z"
   },
   {
    "duration": 899,
    "start_time": "2023-03-22T22:51:00.686Z"
   },
   {
    "duration": 6,
    "start_time": "2023-03-22T22:51:01.663Z"
   },
   {
    "duration": 7,
    "start_time": "2023-03-22T22:51:02.505Z"
   },
   {
    "duration": 4,
    "start_time": "2023-03-22T22:51:02.762Z"
   },
   {
    "duration": 295,
    "start_time": "2023-03-22T22:51:03.008Z"
   },
   {
    "duration": 3851,
    "start_time": "2023-03-22T22:51:03.532Z"
   },
   {
    "duration": 30,
    "start_time": "2023-03-22T22:51:07.385Z"
   },
   {
    "duration": 4,
    "start_time": "2023-03-22T22:51:07.417Z"
   },
   {
    "duration": 7,
    "start_time": "2023-03-22T22:51:07.423Z"
   },
   {
    "duration": 3,
    "start_time": "2023-03-22T22:51:08.254Z"
   },
   {
    "duration": 3,
    "start_time": "2023-03-22T22:51:09.961Z"
   },
   {
    "duration": 13127,
    "start_time": "2023-03-22T22:51:10.979Z"
   },
   {
    "duration": 287,
    "start_time": "2023-03-22T22:51:27.096Z"
   },
   {
    "duration": 76,
    "start_time": "2023-03-22T22:52:21.208Z"
   },
   {
    "duration": 269,
    "start_time": "2023-03-22T22:52:26.410Z"
   },
   {
    "duration": 155,
    "start_time": "2023-03-22T22:52:29.982Z"
   },
   {
    "duration": 3,
    "start_time": "2023-03-22T22:52:59.536Z"
   },
   {
    "duration": 3,
    "start_time": "2023-03-22T22:53:00.206Z"
   },
   {
    "duration": 10,
    "start_time": "2023-03-22T22:53:00.910Z"
   },
   {
    "duration": 1143399,
    "start_time": "2023-03-22T22:53:01.946Z"
   },
   {
    "duration": 123,
    "start_time": "2023-03-22T23:12:05.347Z"
   },
   {
    "duration": 33,
    "start_time": "2023-03-22T23:12:12.593Z"
   },
   {
    "duration": 76,
    "start_time": "2023-03-22T23:12:20.678Z"
   },
   {
    "duration": 31,
    "start_time": "2023-03-22T23:12:22.677Z"
   },
   {
    "duration": 18,
    "start_time": "2023-03-22T23:17:18.674Z"
   },
   {
    "duration": 53,
    "start_time": "2023-03-22T23:17:19.496Z"
   },
   {
    "duration": 32,
    "start_time": "2023-03-22T23:17:20.278Z"
   },
   {
    "duration": 18,
    "start_time": "2023-03-22T23:21:26.742Z"
   },
   {
    "duration": 58,
    "start_time": "2023-03-22T23:21:27.514Z"
   },
   {
    "duration": 29,
    "start_time": "2023-03-22T23:21:28.958Z"
   },
   {
    "duration": 90,
    "start_time": "2023-03-22T23:21:52.768Z"
   },
   {
    "duration": 4,
    "start_time": "2023-03-22T23:21:57.617Z"
   },
   {
    "duration": 18,
    "start_time": "2023-03-22T23:22:43.634Z"
   },
   {
    "duration": 61,
    "start_time": "2023-03-22T23:22:43.848Z"
   },
   {
    "duration": 35,
    "start_time": "2023-03-22T23:22:44.723Z"
   },
   {
    "duration": 3,
    "start_time": "2023-03-22T23:27:44.850Z"
   },
   {
    "duration": 6,
    "start_time": "2023-03-22T23:28:42.543Z"
   },
   {
    "duration": 58,
    "start_time": "2023-03-22T23:29:13.847Z"
   },
   {
    "duration": 6,
    "start_time": "2023-03-22T23:29:14.532Z"
   },
   {
    "duration": 29,
    "start_time": "2023-03-22T23:29:54.181Z"
   },
   {
    "duration": 24,
    "start_time": "2023-03-22T23:30:04.834Z"
   },
   {
    "duration": 7,
    "start_time": "2023-03-22T23:30:12.939Z"
   },
   {
    "duration": 23,
    "start_time": "2023-03-22T23:30:13.800Z"
   },
   {
    "duration": 23,
    "start_time": "2023-03-22T23:31:03.232Z"
   },
   {
    "duration": 25,
    "start_time": "2023-03-22T23:33:58.065Z"
   },
   {
    "duration": 7,
    "start_time": "2023-03-22T23:34:12.694Z"
   },
   {
    "duration": 56,
    "start_time": "2023-03-22T23:34:16.294Z"
   },
   {
    "duration": 6,
    "start_time": "2023-03-22T23:34:17.130Z"
   },
   {
    "duration": 31,
    "start_time": "2023-03-22T23:34:19.759Z"
   },
   {
    "duration": 17,
    "start_time": "2023-03-22T23:34:31.640Z"
   },
   {
    "duration": 53,
    "start_time": "2023-03-22T23:34:32.584Z"
   },
   {
    "duration": 7,
    "start_time": "2023-03-22T23:34:33.407Z"
   },
   {
    "duration": 29,
    "start_time": "2023-03-22T23:34:35.193Z"
   },
   {
    "duration": 24,
    "start_time": "2023-03-22T23:48:07.665Z"
   },
   {
    "duration": 18,
    "start_time": "2023-03-22T23:48:12.410Z"
   },
   {
    "duration": 54,
    "start_time": "2023-03-22T23:48:12.983Z"
   },
   {
    "duration": 6,
    "start_time": "2023-03-22T23:48:13.641Z"
   },
   {
    "duration": 29,
    "start_time": "2023-03-22T23:48:15.049Z"
   },
   {
    "duration": 115,
    "start_time": "2023-03-23T09:37:35.998Z"
   },
   {
    "duration": 8265,
    "start_time": "2023-03-23T09:37:44.677Z"
   },
   {
    "duration": 0,
    "start_time": "2023-03-23T09:37:52.944Z"
   },
   {
    "duration": 0,
    "start_time": "2023-03-23T09:37:52.945Z"
   },
   {
    "duration": 10989,
    "start_time": "2023-03-23T09:38:14.730Z"
   },
   {
    "duration": 3924,
    "start_time": "2023-03-23T09:41:22.717Z"
   },
   {
    "duration": 1234,
    "start_time": "2023-03-23T09:41:31.570Z"
   },
   {
    "duration": 9,
    "start_time": "2023-03-23T09:41:32.891Z"
   },
   {
    "duration": 13,
    "start_time": "2023-03-23T09:41:35.787Z"
   },
   {
    "duration": 5,
    "start_time": "2023-03-23T09:41:36.745Z"
   },
   {
    "duration": 359,
    "start_time": "2023-03-23T09:41:37.965Z"
   },
   {
    "duration": 3727,
    "start_time": "2023-03-23T09:41:39.339Z"
   },
   {
    "duration": 45,
    "start_time": "2023-03-23T09:41:43.068Z"
   },
   {
    "duration": 3,
    "start_time": "2023-03-23T09:41:46.468Z"
   },
   {
    "duration": 3,
    "start_time": "2023-03-23T09:41:49.324Z"
   },
   {
    "duration": 4,
    "start_time": "2023-03-23T09:41:49.843Z"
   },
   {
    "duration": 3,
    "start_time": "2023-03-23T09:41:50.333Z"
   },
   {
    "duration": 12740,
    "start_time": "2023-03-23T09:41:53.335Z"
   },
   {
    "duration": 1268726,
    "start_time": "2023-03-23T09:42:15.832Z"
   },
   {
    "duration": 5,
    "start_time": "2023-03-23T10:05:04.526Z"
   },
   {
    "duration": 48,
    "start_time": "2023-03-23T10:05:07.844Z"
   },
   {
    "duration": 74,
    "start_time": "2023-03-23T10:05:08.971Z"
   },
   {
    "duration": 7,
    "start_time": "2023-03-23T10:05:10.833Z"
   },
   {
    "duration": 38,
    "start_time": "2023-03-23T10:05:16.964Z"
   },
   {
    "duration": 182,
    "start_time": "2023-03-23T10:25:47.839Z"
   },
   {
    "duration": 32,
    "start_time": "2023-03-23T10:26:17.421Z"
   },
   {
    "duration": 22,
    "start_time": "2023-03-23T10:26:24.450Z"
   },
   {
    "duration": 71,
    "start_time": "2023-03-23T10:26:24.675Z"
   },
   {
    "duration": 7,
    "start_time": "2023-03-23T10:26:27.281Z"
   },
   {
    "duration": 33,
    "start_time": "2023-03-23T10:26:31.909Z"
   },
   {
    "duration": 33,
    "start_time": "2023-03-23T14:01:16.929Z"
   },
   {
    "duration": 6,
    "start_time": "2023-03-23T14:01:21.055Z"
   },
   {
    "duration": 26,
    "start_time": "2023-03-23T14:01:26.813Z"
   },
   {
    "duration": 67,
    "start_time": "2023-03-23T14:01:28.179Z"
   },
   {
    "duration": 7,
    "start_time": "2023-03-23T14:01:28.462Z"
   },
   {
    "duration": 33,
    "start_time": "2023-03-23T14:01:30.372Z"
   },
   {
    "duration": 29,
    "start_time": "2023-03-23T14:36:21.735Z"
   },
   {
    "duration": 6,
    "start_time": "2023-03-23T14:36:40.316Z"
   },
   {
    "duration": 27,
    "start_time": "2023-03-23T14:36:53.539Z"
   },
   {
    "duration": 78,
    "start_time": "2023-03-23T14:36:54.327Z"
   },
   {
    "duration": 9,
    "start_time": "2023-03-23T14:36:55.259Z"
   },
   {
    "duration": 34,
    "start_time": "2023-03-23T14:36:56.962Z"
   },
   {
    "duration": 5,
    "start_time": "2023-03-23T14:37:00.021Z"
   },
   {
    "duration": 6,
    "start_time": "2023-03-23T14:51:16.522Z"
   },
   {
    "duration": 77,
    "start_time": "2023-03-23T14:51:20.675Z"
   },
   {
    "duration": 13,
    "start_time": "2023-03-23T14:51:21.654Z"
   },
   {
    "duration": 6,
    "start_time": "2023-03-23T15:21:06.563Z"
   },
   {
    "duration": 59,
    "start_time": "2023-03-23T15:21:08.845Z"
   },
   {
    "duration": 4,
    "start_time": "2023-03-23T15:21:22.650Z"
   },
   {
    "duration": 23,
    "start_time": "2023-03-23T15:21:35.536Z"
   },
   {
    "duration": 89,
    "start_time": "2023-03-23T15:21:37.309Z"
   },
   {
    "duration": 16,
    "start_time": "2023-03-23T15:21:39.424Z"
   },
   {
    "duration": 10,
    "start_time": "2023-03-23T15:21:46.116Z"
   },
   {
    "duration": 46,
    "start_time": "2023-03-23T15:21:48.981Z"
   },
   {
    "duration": 3,
    "start_time": "2023-03-23T15:32:10.857Z"
   },
   {
    "duration": 22,
    "start_time": "2023-03-23T15:32:12.067Z"
   },
   {
    "duration": 104,
    "start_time": "2023-03-23T15:32:12.305Z"
   },
   {
    "duration": 12,
    "start_time": "2023-03-23T15:32:12.576Z"
   },
   {
    "duration": 9,
    "start_time": "2023-03-23T15:32:15.488Z"
   },
   {
    "duration": 31,
    "start_time": "2023-03-23T15:32:18.775Z"
   },
   {
    "duration": 4371,
    "start_time": "2023-03-23T15:35:30.713Z"
   },
   {
    "duration": 5452,
    "start_time": "2023-03-23T15:35:35.086Z"
   },
   {
    "duration": 806,
    "start_time": "2023-03-23T15:35:40.540Z"
   },
   {
    "duration": 9,
    "start_time": "2023-03-23T15:35:41.349Z"
   },
   {
    "duration": 18,
    "start_time": "2023-03-23T15:35:41.359Z"
   },
   {
    "duration": 7,
    "start_time": "2023-03-23T15:35:41.378Z"
   },
   {
    "duration": 356,
    "start_time": "2023-03-23T15:35:41.386Z"
   },
   {
    "duration": 3781,
    "start_time": "2023-03-23T15:35:41.744Z"
   },
   {
    "duration": 46,
    "start_time": "2023-03-23T15:35:45.527Z"
   },
   {
    "duration": 141,
    "start_time": "2023-03-23T15:35:45.576Z"
   },
   {
    "duration": 34,
    "start_time": "2023-03-23T15:35:45.719Z"
   },
   {
    "duration": 51,
    "start_time": "2023-03-23T15:35:45.755Z"
   },
   {
    "duration": 20,
    "start_time": "2023-03-23T15:35:45.808Z"
   },
   {
    "duration": 375,
    "start_time": "2023-03-23T15:35:45.830Z"
   },
   {
    "duration": 1233445,
    "start_time": "2023-03-23T15:35:46.207Z"
   },
   {
    "duration": 5,
    "start_time": "2023-03-23T15:56:19.654Z"
   },
   {
    "duration": 12,
    "start_time": "2023-03-23T15:56:19.661Z"
   },
   {
    "duration": 47,
    "start_time": "2023-03-23T15:56:19.675Z"
   },
   {
    "duration": 70,
    "start_time": "2023-03-23T15:56:19.723Z"
   },
   {
    "duration": 11,
    "start_time": "2023-03-23T15:56:19.795Z"
   },
   {
    "duration": 21,
    "start_time": "2023-03-23T15:56:19.807Z"
   },
   {
    "duration": 54,
    "start_time": "2023-03-23T15:56:19.830Z"
   },
   {
    "duration": 673,
    "start_time": "2023-03-23T18:05:08.354Z"
   },
   {
    "duration": 45,
    "start_time": "2023-03-23T18:05:52.341Z"
   },
   {
    "duration": 27,
    "start_time": "2023-03-23T18:05:53.068Z"
   },
   {
    "duration": 8,
    "start_time": "2023-03-23T18:05:56.687Z"
   },
   {
    "duration": 5,
    "start_time": "2023-03-23T18:05:59.690Z"
   },
   {
    "duration": 7,
    "start_time": "2023-03-23T18:06:00.306Z"
   },
   {
    "duration": 16,
    "start_time": "2023-03-23T18:06:04.089Z"
   },
   {
    "duration": 3,
    "start_time": "2023-03-23T18:06:04.874Z"
   },
   {
    "duration": 25,
    "start_time": "2023-03-23T18:06:05.085Z"
   },
   {
    "duration": 80,
    "start_time": "2023-03-23T18:06:05.294Z"
   },
   {
    "duration": 17,
    "start_time": "2023-03-23T18:06:05.670Z"
   },
   {
    "duration": 9,
    "start_time": "2023-03-23T18:06:09.423Z"
   },
   {
    "duration": 33,
    "start_time": "2023-03-23T18:06:10.476Z"
   },
   {
    "duration": 31,
    "start_time": "2023-03-23T18:06:12.826Z"
   },
   {
    "duration": 7,
    "start_time": "2023-03-23T18:07:16.590Z"
   },
   {
    "duration": 11,
    "start_time": "2023-03-23T18:14:24.461Z"
   },
   {
    "duration": 64,
    "start_time": "2023-03-23T18:14:25.863Z"
   },
   {
    "duration": 5,
    "start_time": "2023-03-23T18:14:35.587Z"
   },
   {
    "duration": 4,
    "start_time": "2023-03-23T18:14:36.351Z"
   },
   {
    "duration": 35,
    "start_time": "2023-03-23T18:14:39.493Z"
   },
   {
    "duration": 69,
    "start_time": "2023-03-23T18:14:59.095Z"
   },
   {
    "duration": 11,
    "start_time": "2023-03-23T18:15:00.392Z"
   },
   {
    "duration": 7,
    "start_time": "2023-03-23T18:15:03.958Z"
   },
   {
    "duration": 38,
    "start_time": "2023-03-23T18:15:21.839Z"
   },
   {
    "duration": 7,
    "start_time": "2023-03-23T18:15:44.964Z"
   },
   {
    "duration": 5,
    "start_time": "2023-03-23T18:16:57.230Z"
   },
   {
    "duration": 8,
    "start_time": "2023-03-23T18:17:02.858Z"
   },
   {
    "duration": 28,
    "start_time": "2023-03-23T18:17:15.000Z"
   },
   {
    "duration": 29,
    "start_time": "2023-03-23T18:17:15.718Z"
   },
   {
    "duration": 24,
    "start_time": "2023-03-23T18:18:07.966Z"
   },
   {
    "duration": 77,
    "start_time": "2023-03-23T18:18:11.434Z"
   },
   {
    "duration": 6024,
    "start_time": "2023-03-23T18:18:21.760Z"
   },
   {
    "duration": 20692,
    "start_time": "2023-03-23T18:18:27.788Z"
   },
   {
    "duration": 1287,
    "start_time": "2023-03-23T18:18:48.482Z"
   },
   {
    "duration": 8,
    "start_time": "2023-03-23T18:18:49.771Z"
   },
   {
    "duration": 19,
    "start_time": "2023-03-23T18:18:49.780Z"
   },
   {
    "duration": 5,
    "start_time": "2023-03-23T18:18:49.801Z"
   },
   {
    "duration": 349,
    "start_time": "2023-03-23T18:18:49.808Z"
   },
   {
    "duration": 4252,
    "start_time": "2023-03-23T18:18:50.159Z"
   },
   {
    "duration": 53,
    "start_time": "2023-03-23T18:18:54.413Z"
   },
   {
    "duration": 15,
    "start_time": "2023-03-23T18:18:54.469Z"
   },
   {
    "duration": 11,
    "start_time": "2023-03-23T18:18:54.485Z"
   },
   {
    "duration": 19,
    "start_time": "2023-03-23T18:18:54.498Z"
   },
   {
    "duration": 11,
    "start_time": "2023-03-23T18:18:54.519Z"
   },
   {
    "duration": 2578,
    "start_time": "2023-03-23T18:18:54.532Z"
   },
   {
    "duration": 1339241,
    "start_time": "2023-03-23T18:18:57.112Z"
   },
   {
    "duration": 10,
    "start_time": "2023-03-23T18:41:16.356Z"
   },
   {
    "duration": 11,
    "start_time": "2023-03-23T18:41:16.368Z"
   },
   {
    "duration": 43,
    "start_time": "2023-03-23T18:41:16.381Z"
   },
   {
    "duration": 75,
    "start_time": "2023-03-23T18:41:16.426Z"
   },
   {
    "duration": 10,
    "start_time": "2023-03-23T18:41:16.503Z"
   },
   {
    "duration": 29,
    "start_time": "2023-03-23T18:41:16.515Z"
   },
   {
    "duration": 65,
    "start_time": "2023-03-23T18:41:16.546Z"
   },
   {
    "duration": 3,
    "start_time": "2023-03-23T19:41:25.496Z"
   },
   {
    "duration": 23,
    "start_time": "2023-03-23T19:41:26.594Z"
   },
   {
    "duration": 65,
    "start_time": "2023-03-23T19:41:27.492Z"
   },
   {
    "duration": 10,
    "start_time": "2023-03-23T19:41:28.295Z"
   },
   {
    "duration": 10,
    "start_time": "2023-03-23T19:41:30.740Z"
   },
   {
    "duration": 42,
    "start_time": "2023-03-23T19:41:35.422Z"
   },
   {
    "duration": 9,
    "start_time": "2023-03-23T19:41:49.130Z"
   },
   {
    "duration": 15,
    "start_time": "2023-03-23T19:41:50.492Z"
   },
   {
    "duration": 21,
    "start_time": "2023-03-23T19:41:59.961Z"
   },
   {
    "duration": 67,
    "start_time": "2023-03-23T19:42:00.841Z"
   },
   {
    "duration": 9,
    "start_time": "2023-03-23T19:42:01.703Z"
   },
   {
    "duration": 5,
    "start_time": "2023-03-23T19:42:04.972Z"
   },
   {
    "duration": 35,
    "start_time": "2023-03-23T19:42:07.552Z"
   },
   {
    "duration": 4,
    "start_time": "2023-03-23T19:42:32.423Z"
   },
   {
    "duration": 341,
    "start_time": "2023-03-23T21:04:37.831Z"
   },
   {
    "duration": 107,
    "start_time": "2023-03-23T21:05:40.706Z"
   },
   {
    "duration": 14,
    "start_time": "2023-03-23T21:05:45.006Z"
   },
   {
    "duration": 7,
    "start_time": "2023-03-23T21:05:47.432Z"
   },
   {
    "duration": 47,
    "start_time": "2023-03-23T21:05:56.430Z"
   },
   {
    "duration": 27,
    "start_time": "2023-03-23T21:06:15.260Z"
   },
   {
    "duration": 7,
    "start_time": "2023-03-23T21:06:36.111Z"
   },
   {
    "duration": 6,
    "start_time": "2023-03-23T21:06:46.102Z"
   },
   {
    "duration": 72,
    "start_time": "2023-03-23T21:07:03.186Z"
   },
   {
    "duration": 7,
    "start_time": "2023-03-23T21:18:56.507Z"
   },
   {
    "duration": 45,
    "start_time": "2023-03-23T21:18:59.431Z"
   },
   {
    "duration": 28,
    "start_time": "2023-03-23T22:02:52.691Z"
   },
   {
    "duration": 12,
    "start_time": "2023-03-23T22:03:01.083Z"
   },
   {
    "duration": 20,
    "start_time": "2023-03-23T22:03:02.203Z"
   },
   {
    "duration": 71,
    "start_time": "2023-03-23T22:03:02.602Z"
   },
   {
    "duration": 11,
    "start_time": "2023-03-23T22:03:02.859Z"
   },
   {
    "duration": 7,
    "start_time": "2023-03-23T22:03:03.059Z"
   },
   {
    "duration": 35,
    "start_time": "2023-03-23T22:03:03.824Z"
   },
   {
    "duration": 1245671,
    "start_time": "2023-03-23T23:59:31.725Z"
   },
   {
    "duration": 4,
    "start_time": "2023-03-24T00:21:10.058Z"
   },
   {
    "duration": 4,
    "start_time": "2023-03-24T00:21:10.671Z"
   },
   {
    "duration": 4,
    "start_time": "2023-03-24T00:21:11.158Z"
   },
   {
    "duration": 6,
    "start_time": "2023-03-24T00:21:11.559Z"
   },
   {
    "duration": 230,
    "start_time": "2023-03-24T00:21:11.778Z"
   },
   {
    "duration": 4146,
    "start_time": "2023-03-24T00:22:34.453Z"
   },
   {
    "duration": 6438,
    "start_time": "2023-03-24T00:22:38.601Z"
   },
   {
    "duration": 1311,
    "start_time": "2023-03-24T00:22:45.041Z"
   },
   {
    "duration": 9,
    "start_time": "2023-03-24T00:22:46.354Z"
   },
   {
    "duration": 11,
    "start_time": "2023-03-24T00:22:46.366Z"
   },
   {
    "duration": 5,
    "start_time": "2023-03-24T00:22:46.379Z"
   },
   {
    "duration": 342,
    "start_time": "2023-03-24T00:22:46.386Z"
   },
   {
    "duration": 3832,
    "start_time": "2023-03-24T00:22:46.730Z"
   },
   {
    "duration": 44,
    "start_time": "2023-03-24T00:22:50.564Z"
   },
   {
    "duration": 2,
    "start_time": "2023-03-24T00:22:50.610Z"
   },
   {
    "duration": 8,
    "start_time": "2023-03-24T00:22:50.614Z"
   },
   {
    "duration": 12,
    "start_time": "2023-03-24T00:22:50.640Z"
   },
   {
    "duration": 11,
    "start_time": "2023-03-24T00:22:50.654Z"
   },
   {
    "duration": 7,
    "start_time": "2023-03-24T00:22:50.668Z"
   },
   {
    "duration": 1157327,
    "start_time": "2023-03-24T00:22:50.677Z"
   },
   {
    "duration": 60,
    "start_time": "2023-03-24T00:42:08.097Z"
   },
   {
    "duration": 10,
    "start_time": "2023-03-24T00:42:08.159Z"
   },
   {
    "duration": 28,
    "start_time": "2023-03-24T00:42:08.170Z"
   },
   {
    "duration": 39,
    "start_time": "2023-03-24T00:42:08.200Z"
   },
   {
    "duration": 38,
    "start_time": "2023-03-24T00:42:08.263Z"
   },
   {
    "duration": 51,
    "start_time": "2023-03-24T00:42:08.303Z"
   },
   {
    "duration": 26,
    "start_time": "2023-03-24T00:42:08.356Z"
   },
   {
    "duration": 13,
    "start_time": "2023-03-24T00:42:08.384Z"
   },
   {
    "duration": 44,
    "start_time": "2023-03-24T00:45:04.199Z"
   },
   {
    "duration": 3121,
    "start_time": "2023-03-24T00:46:03.606Z"
   },
   {
    "duration": 46,
    "start_time": "2023-03-24T00:46:06.729Z"
   },
   {
    "duration": 3219,
    "start_time": "2023-03-24T01:06:13.417Z"
   },
   {
    "duration": 81,
    "start_time": "2023-03-24T01:06:19.818Z"
   },
   {
    "duration": 3228,
    "start_time": "2023-03-24T01:07:44.854Z"
   },
   {
    "duration": 46,
    "start_time": "2023-03-24T01:07:48.084Z"
   },
   {
    "duration": 6,
    "start_time": "2023-03-24T01:08:26.587Z"
   },
   {
    "duration": 607,
    "start_time": "2023-03-24T01:08:27.999Z"
   },
   {
    "duration": 5,
    "start_time": "2023-03-24T01:08:47.538Z"
   },
   {
    "duration": 539,
    "start_time": "2023-03-24T01:08:47.761Z"
   },
   {
    "duration": 6,
    "start_time": "2023-03-24T01:09:07.118Z"
   },
   {
    "duration": 1663,
    "start_time": "2023-03-24T01:11:25.637Z"
   },
   {
    "duration": 1012,
    "start_time": "2023-03-24T01:11:28.876Z"
   },
   {
    "duration": 807,
    "start_time": "2023-03-24T01:11:29.890Z"
   },
   {
    "duration": 6,
    "start_time": "2023-03-24T01:11:31.294Z"
   },
   {
    "duration": 10,
    "start_time": "2023-03-24T01:12:28.216Z"
   },
   {
    "duration": 5,
    "start_time": "2023-03-24T01:12:31.539Z"
   },
   {
    "duration": 324,
    "start_time": "2023-03-24T01:12:31.802Z"
   },
   {
    "duration": 5127,
    "start_time": "2023-03-24T01:31:53.496Z"
   },
   {
    "duration": 5511,
    "start_time": "2023-03-24T01:31:58.626Z"
   },
   {
    "duration": 208,
    "start_time": "2023-03-24T01:32:04.141Z"
   },
   {
    "duration": 1106,
    "start_time": "2023-03-24T01:32:04.352Z"
   },
   {
    "duration": 12,
    "start_time": "2023-03-24T01:32:05.460Z"
   },
   {
    "duration": 13,
    "start_time": "2023-03-24T01:32:05.474Z"
   },
   {
    "duration": 5,
    "start_time": "2023-03-24T01:32:05.490Z"
   },
   {
    "duration": 480,
    "start_time": "2023-03-24T01:32:05.497Z"
   },
   {
    "duration": 4,
    "start_time": "2023-03-24T01:32:05.980Z"
   },
   {
    "duration": 16,
    "start_time": "2023-03-24T01:32:05.988Z"
   },
   {
    "duration": 6,
    "start_time": "2023-03-24T01:32:06.006Z"
   },
   {
    "duration": 9,
    "start_time": "2023-03-24T01:32:06.015Z"
   },
   {
    "duration": 16,
    "start_time": "2023-03-24T01:32:06.027Z"
   },
   {
    "duration": 16,
    "start_time": "2023-03-24T01:32:06.046Z"
   },
   {
    "duration": 17,
    "start_time": "2023-03-24T01:32:06.064Z"
   },
   {
    "duration": 1284539,
    "start_time": "2023-03-24T01:32:06.084Z"
   },
   {
    "duration": 5,
    "start_time": "2023-03-24T01:53:30.625Z"
   },
   {
    "duration": 98,
    "start_time": "2023-03-24T01:53:30.640Z"
   },
   {
    "duration": 48,
    "start_time": "2023-03-24T01:53:30.740Z"
   },
   {
    "duration": 31,
    "start_time": "2023-03-24T01:53:30.790Z"
   },
   {
    "duration": 82,
    "start_time": "2023-03-24T01:53:30.823Z"
   },
   {
    "duration": 3,
    "start_time": "2023-03-24T01:53:30.907Z"
   },
   {
    "duration": 58,
    "start_time": "2023-03-24T01:53:30.912Z"
   },
   {
    "duration": 7177,
    "start_time": "2023-03-24T01:53:30.972Z"
   },
   {
    "duration": 1715,
    "start_time": "2023-03-24T01:55:09.415Z"
   },
   {
    "duration": 511,
    "start_time": "2023-03-24T01:55:11.218Z"
   },
   {
    "duration": 39403,
    "start_time": "2023-03-24T01:55:52.504Z"
   },
   {
    "duration": 322417,
    "start_time": "2023-03-24T01:56:31.910Z"
   },
   {
    "duration": 263595,
    "start_time": "2023-03-24T02:01:54.329Z"
   },
   {
    "duration": 46,
    "start_time": "2023-03-24T02:06:17.926Z"
   },
   {
    "duration": 1819,
    "start_time": "2023-03-24T02:07:32.511Z"
   },
   {
    "duration": 4505,
    "start_time": "2023-03-24T02:08:48.666Z"
   },
   {
    "duration": 4583,
    "start_time": "2023-03-24T02:08:53.174Z"
   },
   {
    "duration": 181,
    "start_time": "2023-03-24T02:08:57.759Z"
   },
   {
    "duration": 966,
    "start_time": "2023-03-24T02:08:57.943Z"
   },
   {
    "duration": 9,
    "start_time": "2023-03-24T02:08:58.911Z"
   },
   {
    "duration": 13,
    "start_time": "2023-03-24T02:08:58.922Z"
   },
   {
    "duration": 4,
    "start_time": "2023-03-24T02:08:58.937Z"
   },
   {
    "duration": 447,
    "start_time": "2023-03-24T02:08:58.945Z"
   },
   {
    "duration": 4,
    "start_time": "2023-03-24T02:08:59.394Z"
   },
   {
    "duration": 15,
    "start_time": "2023-03-24T02:08:59.401Z"
   },
   {
    "duration": 11,
    "start_time": "2023-03-24T02:08:59.419Z"
   },
   {
    "duration": 10,
    "start_time": "2023-03-24T02:08:59.433Z"
   },
   {
    "duration": 34,
    "start_time": "2023-03-24T02:08:59.446Z"
   },
   {
    "duration": 4,
    "start_time": "2023-03-24T02:08:59.485Z"
   },
   {
    "duration": 6,
    "start_time": "2023-03-24T02:08:59.492Z"
   },
   {
    "duration": 1639374,
    "start_time": "2023-03-24T02:08:59.500Z"
   },
   {
    "duration": 4,
    "start_time": "2023-03-24T02:36:18.877Z"
   },
   {
    "duration": 20,
    "start_time": "2023-03-24T02:36:18.883Z"
   },
   {
    "duration": 3,
    "start_time": "2023-03-24T02:36:18.905Z"
   },
   {
    "duration": 9,
    "start_time": "2023-03-24T02:36:18.910Z"
   },
   {
    "duration": 80,
    "start_time": "2023-03-24T02:36:18.920Z"
   },
   {
    "duration": 3,
    "start_time": "2023-03-24T02:36:19.001Z"
   },
   {
    "duration": 10,
    "start_time": "2023-03-24T02:36:19.006Z"
   },
   {
    "duration": 7295,
    "start_time": "2023-03-24T02:36:19.018Z"
   },
   {
    "duration": 1551,
    "start_time": "2023-03-24T02:36:26.315Z"
   },
   {
    "duration": 41809,
    "start_time": "2023-03-24T02:36:27.870Z"
   },
   {
    "duration": 355411,
    "start_time": "2023-03-24T02:37:09.680Z"
   },
   {
    "duration": 273379,
    "start_time": "2023-03-24T02:43:05.096Z"
   },
   {
    "duration": 2013,
    "start_time": "2023-03-24T02:47:38.482Z"
   },
   {
    "duration": 14066,
    "start_time": "2023-03-25T05:20:10.477Z"
   },
   {
    "duration": 6906,
    "start_time": "2023-03-25T05:20:24.547Z"
   },
   {
    "duration": 263,
    "start_time": "2023-03-25T05:20:31.456Z"
   },
   {
    "duration": 1742,
    "start_time": "2023-03-25T05:20:31.721Z"
   },
   {
    "duration": 11,
    "start_time": "2023-03-25T05:20:33.466Z"
   },
   {
    "duration": 15,
    "start_time": "2023-03-25T05:20:33.479Z"
   },
   {
    "duration": 7,
    "start_time": "2023-03-25T05:20:33.496Z"
   },
   {
    "duration": 398,
    "start_time": "2023-03-25T05:20:33.505Z"
   },
   {
    "duration": 4,
    "start_time": "2023-03-25T05:20:33.905Z"
   },
   {
    "duration": 10,
    "start_time": "2023-03-25T05:20:33.911Z"
   },
   {
    "duration": 5,
    "start_time": "2023-03-25T05:20:43.152Z"
   },
   {
    "duration": 7,
    "start_time": "2023-03-25T05:20:43.906Z"
   },
   {
    "duration": 49,
    "start_time": "2023-03-25T05:20:45.059Z"
   },
   {
    "duration": 3,
    "start_time": "2023-03-25T05:20:47.198Z"
   },
   {
    "duration": 8,
    "start_time": "2023-03-25T05:20:49.506Z"
   },
   {
    "duration": 10599,
    "start_time": "2023-03-25T05:20:51.218Z"
   }
  ],
  "kernelspec": {
   "display_name": "Python 3 (ipykernel)",
   "language": "python",
   "name": "python3"
  },
  "language_info": {
   "codemirror_mode": {
    "name": "ipython",
    "version": 3
   },
   "file_extension": ".py",
   "mimetype": "text/x-python",
   "name": "python",
   "nbconvert_exporter": "python",
   "pygments_lexer": "ipython3",
   "version": "3.9.12"
  },
  "toc": {
   "base_numbering": 1,
   "nav_menu": {},
   "number_sections": true,
   "sideBar": true,
   "skip_h1_title": true,
   "title_cell": "Содержание",
   "title_sidebar": "Contents",
   "toc_cell": true,
   "toc_position": {
    "height": "calc(100% - 180px)",
    "left": "10px",
    "top": "150px",
    "width": "302.391px"
   },
   "toc_section_display": true,
   "toc_window_display": true
  }
 },
 "nbformat": 4,
 "nbformat_minor": 2
}
